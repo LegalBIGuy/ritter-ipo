{
 "cells": [
  {
   "cell_type": "code",
   "execution_count": 1,
   "metadata": {},
   "outputs": [],
   "source": [
    "# Ritter IPO Analysis\n",
    "#   Import, Clean, Engineer Features for Ritter IPO datasets\n",
    "# pip install wget\n",
    "\n",
    "#imports\n",
    "import numpy as np\n",
    "import pandas as pd\n",
    "import matplotlib.mlab as mlab\n",
    "import matplotlib.pyplot as plt\n",
    "import wget"
   ]
  },
  {
   "cell_type": "code",
   "execution_count": 2,
   "metadata": {},
   "outputs": [
    {
     "name": "stdout",
     "output_type": "stream",
     "text": [
      "100% [............................................................................] 828416 / 828416"
     ]
    },
    {
     "data": {
      "text/plain": [
       "'IPO2609.xls'"
      ]
     },
     "execution_count": 2,
     "metadata": {},
     "output_type": "execute_result"
    }
   ],
   "source": [
    "# Download Ritter IPO 2609 file\n",
    "ipo2609_filename = \"IPO2609.xls\"\n",
    "url = \"https://site.warrington.ufl.edu/ritter/files/2016/01/IPO2609.xls\"\n",
    "wget.download(url, ipo2609_filename)"
   ]
  },
  {
   "cell_type": "code",
   "execution_count": 3,
   "metadata": {},
   "outputs": [
    {
     "name": "stdout",
     "output_type": "stream",
     "text": [
      "100% [..........................................................................] 1399808 / 1399808"
     ]
    },
    {
     "data": {
      "text/plain": [
       "'IPO1526.xls'"
      ]
     },
     "execution_count": 3,
     "metadata": {},
     "output_type": "execute_result"
    }
   ],
   "source": [
    "# Download Ritter IPO 1526 file\n",
    "ipo1526_filename = \"IPO1526.xls\"\n",
    "url = \"https://site.warrington.ufl.edu/ritter/files/2016/01/IPO1526.xls\"\n",
    "wget.download(url, ipo1526_filename)"
   ]
  },
  {
   "cell_type": "code",
   "execution_count": 4,
   "metadata": {},
   "outputs": [
    {
     "name": "stdout",
     "output_type": "stream",
     "text": [
      "WARNING *** OLE2 inconsistency: SSCS size is 0 but SSAT size is non-zero\n"
     ]
    }
   ],
   "source": [
    "# Read IPO 2609 Excel file into dataframe\n",
    "# NOTE:  YOu can igore WARNING *** OLE2 inconsistency: SSCS size is 0 but SSAT size is non-zero\n",
    "df = pd.read_excel(ipo2609_filename, sheet_name='ipo2609')\n",
    "\n",
    "# Convert Categorical\n",
    "#   Zip\n",
    "#      Replace 0, 999 with NA\n",
    "df['zip'] = df['zip'].astype(str).str.ljust(5,'0')\n",
    "df['zip'] = df['zip'].replace(\n",
    "    to_replace=['00000', '99900'],\n",
    "    value='NA')\n",
    "#      Add trailing zeros so 5 digits\n",
    "df['zip'] = pd.Categorical(df['zip'])\n",
    "#      Use zip3 for region\n",
    "df['zip3'] = df['zip'].str[:3]\n",
    "df['zip3'] = pd.Categorical(df['zip3'])\n",
    "\n",
    "df['t'] = pd.Categorical(df['t'])\n",
    "#   Type\n",
    "#      There are two NA values 0,9.  Replace with NA\n",
    "df['t'] = df['t'].replace(\n",
    "    to_replace=[0, 9],\n",
    "    value='NA')\n",
    "df['t'] = df['t'].replace(\n",
    "    to_replace=[1],\n",
    "    value='Best Efforts')\n",
    "df['t'] = df['t'].replace(\n",
    "    to_replace=[2],\n",
    "    value='Firm Committment')\n",
    "df['t'] = df['t'].replace(\n",
    "    to_replace=[3],\n",
    "    value='Combination')\n",
    "df['t'] = pd.Categorical(df['t'])\n",
    "#   Exchange\n",
    "df['ex'] = df['ex'].replace(\n",
    "    to_replace=[1],\n",
    "    value='NASDAQ')\n",
    "df['ex'] = df['ex'].replace(\n",
    "    to_replace=[2],\n",
    "    value='AMEX')\n",
    "df['ex'] = df['ex'].replace(\n",
    "    to_replace=[3],\n",
    "    value='NYSE')\n",
    "df['ex'] = df['ex'].replace(\n",
    "    to_replace=[4],\n",
    "    value='Non-NASDAQ OTC')   \n",
    "df['ex'] = pd.Categorical(df['ex'])\n",
    "#   SIC Code\n",
    "df['sic'] = pd.Categorical(df['sic'])\n",
    "#   Lead Underwriter\n",
    "#      Replace 0 with NA\n",
    "df['uw1'] = df['uw1'].replace(\n",
    "    to_replace=['0'],\n",
    "    value='NA')\n",
    "df['uw1'] = pd.Categorical(df['uw1'])\n",
    "#   Year Organized\n",
    "#     Replace 00, 01 with 1 (Before 1900, so mark them 1901 )\n",
    "#     NOTE: No rows meet this condition\n",
    "df['yr'] = df['yr'].replace(\n",
    "    to_replace=['00', '01'],\n",
    "    value='1')\n",
    "#     Replace 99 with NA\n",
    "df['yr'] = df['yr'].replace(\n",
    "    to_replace=['99'],\n",
    "    value='NA')\n",
    "df['yr'] = pd.Categorical(df['yr'])\n",
    "df['yr'].describe()\n",
    "#   Security Type: Last two digits of CUSIP represent security type\n",
    "df['sectype'] = df['cusip'].astype(str).str[-2:]\n",
    "df['sectype'] = pd.Categorical(df['sectype'])\n",
    "\n",
    "# Convert and scale decimals\n",
    "#   Offering Price 7.3\n",
    "df['op'] = df['op'].astype(float) / 1000\n",
    "#   Closing bid on first aftermarket day 9.5\n",
    "df['pr1'] = df['pr1'].astype(float) / 100000\n",
    "# Calculate D1 percent change in price\n",
    "df['d1pctchg'] = (df['pr1'] - df['op']) / df['op'] * 100\n",
    "# Replace inf from Divide by Zero with NaN\n",
    "i = df[np.isinf(df['d1pctchg'])].index\n",
    "df.loc[i, 'd1pctchg'] = np.NaN\n",
    "df['underpriced'] = df['d1pctchg'] > 0\n",
    "#   Value of S&P on Closing Date 5.2\n",
    "df['sp'] = df['sp'].replace(\n",
    "    to_replace=[99999],\n",
    "    value=np.NaN)\n",
    "df['sp'] =df['sp'].astype(float) / 100\n",
    "#   Aftermarket standard deviation\n",
    "df['uncer'] = df['uncer'].replace(\n",
    "    to_replace=[999],\n",
    "    value=np.NaN)\n",
    "df['uncer'] =df['uncer'].astype(float) / 1000\n",
    "#   Continuousely compounded growth rate\n",
    "df['gs'] = df['gs'].replace(\n",
    "    to_replace=[999],\n",
    "    value=np.NaN)\n",
    "df['gs'] =df['gs'].astype(float) / 1000\n",
    "#   Offering as a fraction of shares outstanding\n",
    "df['of'] = df['of'].replace(\n",
    "    to_replace=[999],\n",
    "    value=np.NaN)\n",
    "df['of'] =df['of'].astype(float) / 100"
   ]
  },
  {
   "cell_type": "code",
   "execution_count": 5,
   "metadata": {},
   "outputs": [
    {
     "data": {
      "image/png": "[encoded data removed]",
      "text/plain": [
       "<Figure size 432x288 with 1 Axes>"
      ]
     },
     "metadata": {
      "needs_background": "light"
     },
     "output_type": "display_data"
    }
   ],
   "source": [
    "# Plot a Histogram of D1 Price Change Percent\n",
    "# Remove NaN and Clip Outliers\n",
    "clipped= np.clip(df['d1pctchg'][~np.isnan(df['d1pctchg'])], -100, 100)\n",
    "num_bins = 50\n",
    "n, bins, patches = plt.hist(clipped, num_bins, facecolor='blue', alpha=0.5)\n",
    "plt.xlabel('D1 Price Change Percent')\n",
    "plt.ylabel('Count')\n",
    "plt.title(r'Histogram of D1 Price Change Percent (Outliers Clipped)')\n",
    "plt.show()"
   ]
  },
  {
   "cell_type": "code",
   "execution_count": 6,
   "metadata": {},
   "outputs": [
    {
     "data": {
      "image/png": "[encoded data removed]",
      "text/plain": [
       "<Figure size 432x288 with 1 Axes>"
      ]
     },
     "metadata": {
      "needs_background": "light"
     },
     "output_type": "display_data"
    }
   ],
   "source": [
    "# Simple Outlier implementation based on z-score\n",
    "def is_outlier(points, thresh=3.0):\n",
    "\n",
    "    if len(points.shape) == 1:\n",
    "        points = points[:,None]\n",
    "    median = np.median(points, axis=0)\n",
    "    diff = np.sum((points - median)**2, axis=-1)\n",
    "    diff = np.sqrt(diff)\n",
    "    med_abs_deviation = np.median(diff)\n",
    "\n",
    "    modified_z_score = 0.6745 * diff / med_abs_deviation\n",
    "\n",
    "    return modified_z_score > thresh\n",
    "\n",
    "\n",
    "# Plot a Histogram of Offering Price excluding outliers\n",
    "filtered = df['op'][~is_outlier(df['op'])]\n",
    "num_bins = 50\n",
    "n, bins, patches = plt.hist(filtered, num_bins, facecolor='blue', alpha=0.5)\n",
    "plt.xlabel('Offering Price')\n",
    "plt.ylabel('Count')\n",
    "plt.title(r'Histogram of Offering Price (Outliers Excluded)')\n",
    "plt.show()"
   ]
  },
  {
   "cell_type": "code",
   "execution_count": 7,
   "metadata": {},
   "outputs": [
    {
     "name": "stderr",
     "output_type": "stream",
     "text": [
      "C:\\ProgramData\\Anaconda3\\lib\\site-packages\\pandas\\util\\_decorators.py:188: FutureWarning: The `sheetname` keyword is deprecated, use `sheet_name` instead\n",
      "  return func(*args, **kwargs)\n"
     ]
    },
    {
     "name": "stdout",
     "output_type": "stream",
     "text": [
      "WARNING *** OLE2 inconsistency: SSCS size is 0 but SSAT size is non-zero\n"
     ]
    }
   ],
   "source": [
    "# Join IPO1526 (36 month returns for CRSP-listed)\n",
    "# Parse columns returns cusip, name and 38 months of returns\n",
    "df_1526 = pd.read_excel(ipo1526_filename, sheetname='ipo1526', usecols='A,S:BE')\n",
    "\n",
    "# Fix Cusip Data Errors\n",
    "#  Cusip 23322D10 should be 23322410\n",
    "df_1526.loc[df_1526['cusip'] == '23322D10', 'cusip'] = '23322410'\n",
    "#  Cusip 25469E10 should be 25469510\n",
    "df_1526.loc[df_1526['cusip'] == '25469E10', 'cusip'] = '25469510'\n",
    "#  Cusip 29265H10 should be 29265110\n",
    "df_1526.loc[df_1526['cusip'] == '29265H10', 'cusip'] = '29265110'\n",
    "# Cusip 29270H10 should be 29291810\n",
    "df_1526.loc[df_1526['cusip'] == '29270H10', 'cusip'] = '29291810'\n",
    "# There are too many Cusip errors, so we will join on Name\n",
    "#df_1526['cusip'] = df_1526['cusip'].astype(int)\n",
    "# Rename name to Name so it matches column in ipo2609\n",
    "df_1526 = df_1526.rename(columns={'name': 'Name'})\n",
    "\n",
    "# Replace missing values -100 with NaN for all 38 month return columns\n",
    "for x in range(1, 39):\n",
    "    r_col_name = 'r' + str(x)\n",
    "    df_1526[r_col_name] = df_1526[r_col_name].mask(np.isclose(df_1526[r_col_name].values, -99.99998))\n",
    "\n",
    "\n",
    "# Calculate 12, 24 and 36 month returns\n",
    "df_1526['r12_sum'] = df_1526.iloc[:,1:13].sum(axis=1)\n",
    "df_1526['r24_sum'] = df_1526.iloc[:,1:25].sum(axis=1)\n",
    "df_1526['r36_sum'] = df_1526.iloc[:,1:37].sum(axis=1)\n",
    "\n",
    "# Drop Cusip Column\n",
    "df_1526.drop('cusip', inplace=True, axis=1)\n",
    "\n",
    "# Drop r1-r38 columns\n",
    "for x in range(1, 39):\n",
    "    r_col_name = 'r' + str(x)\n",
    "    df_1526.drop(r_col_name, inplace=True, axis=1)\n"
   ]
  },
  {
   "cell_type": "code",
   "execution_count": 8,
   "metadata": {},
   "outputs": [],
   "source": [
    "# Merge on Name\n",
    "# NOTE: We lose 10 rows, which we will accept for this experiment\n",
    "df_merged = pd.merge(df, df_1526, on='Name')"
   ]
  },
  {
   "cell_type": "code",
   "execution_count": 9,
   "metadata": {},
   "outputs": [
    {
     "data": {
      "image/png": "[encoded data removed]",
      "text/plain": [
       "<Figure size 432x288 with 1 Axes>"
      ]
     },
     "metadata": {
      "needs_background": "light"
     },
     "output_type": "display_data"
    }
   ],
   "source": [
    "# Plot Bar Charts of Average Returns by Exchange for Overpriced and underpriced\n",
    "\n",
    "#    Overpriced Chart\n",
    "df_bar = df_merged[['underpriced', 'ex', 'd1pctchg', 'r12_sum', 'r24_sum', 'r36_sum']]\n",
    "df_bar = df_bar.groupby(['underpriced', 'ex']).mean()\n",
    "df_over_amex = df_bar.loc[(df_bar.index.get_level_values('underpriced') == False) & (df_bar.index.get_level_values('ex') == 'AMEX')]\n",
    "df_over_amex = df_over_amex.values.tolist()[0]\n",
    "df_over_nyse = df_bar.loc[(df_bar.index.get_level_values('underpriced') == False) & (df_bar.index.get_level_values('ex') == 'NYSE')]\n",
    "df_over_nyse = df_over_nyse.values.tolist()[0]\n",
    "df_over_nasdaq = df_bar.loc[(df_bar.index.get_level_values('underpriced') == False) & (df_bar.index.get_level_values('ex') == 'NASDAQ')]\n",
    "df_over_nasdaq = df_over_nasdaq.values.tolist()[0]\n",
    "\n",
    "n_groups = 4\n",
    "fig, ax = plt.subplots()\n",
    "index = np.arange(n_groups)\n",
    "bar_width = 0.35\n",
    "opacity = 0.8\n",
    "\n",
    "rects1 = plt.bar(index, df_over_amex, bar_width,\n",
    "    alpha=opacity,\n",
    "    color='b',\n",
    "    label='AMEX')\n",
    "rects2 = plt.bar(index + bar_width, df_over_nyse, bar_width,\n",
    "    alpha=opacity,\n",
    "    color='g',\n",
    "    label='NYSE')\n",
    "rects3 = plt.bar(index + bar_width * 2, df_over_nasdaq, bar_width,\n",
    "    alpha=opacity,\n",
    "    color='r',\n",
    "    label='NASDAQ')\n",
    "plt.xlabel('Exchange')\n",
    "plt.ylabel('Return')\n",
    "plt.title('Overpriced Average Returns by Exchange')\n",
    "plt.xticks(index + bar_width, ('D1', 'R12', 'R24', 'R36'))\n",
    "plt.legend()\n",
    "plt.tight_layout()\n",
    "plt.show()"
   ]
  },
  {
   "cell_type": "code",
   "execution_count": 10,
   "metadata": {},
   "outputs": [
    {
     "data": {
      "image/png": "[encoded data removed]",
      "text/plain": [
       "<Figure size 432x288 with 1 Axes>"
      ]
     },
     "metadata": {
      "needs_background": "light"
     },
     "output_type": "display_data"
    }
   ],
   "source": [
    "#    UnderPriced Chart\n",
    "df_under_amex = df_bar.loc[(df_bar.index.get_level_values('underpriced') == True) & (df_bar.index.get_level_values('ex') == 'AMEX')]\n",
    "df_under_amex = df_under_amex.values.tolist()[0]\n",
    "df_under_nyse = df_bar.loc[(df_bar.index.get_level_values('underpriced') == True) & (df_bar.index.get_level_values('ex') == 'NYSE')]\n",
    "df_under_nyse = df_under_nyse.values.tolist()[0]\n",
    "df_under_nasdaq = df_bar.loc[(df_bar.index.get_level_values('underpriced') == True) & (df_bar.index.get_level_values('ex') == 'NASDAQ')]\n",
    "df_under_nasdaq = df_under_nasdaq.values.tolist()[0]\n",
    "\n",
    "n_groups = 4\n",
    "fig, ax = plt.subplots()\n",
    "index = np.arange(n_groups)\n",
    "rects1 = plt.bar(index, df_under_amex, bar_width,\n",
    "    alpha=opacity,\n",
    "    color='b',\n",
    "    label='AMEX')\n",
    "rects2 = plt.bar(index + bar_width, df_under_nyse, bar_width,\n",
    "    alpha=opacity,\n",
    "    color='g',\n",
    "    label='NYSE')\n",
    "rects3 = plt.bar(index + bar_width * 2, df_under_nasdaq, bar_width,\n",
    "    alpha=opacity,\n",
    "    color='r',\n",
    "    label='NASDAQ')\n",
    "plt.xlabel('Exchange')\n",
    "plt.ylabel('Return')\n",
    "plt.title('Underpriced Average Returns by Exchange')\n",
    "plt.xticks(index + bar_width, ('D1', 'R12', 'R24', 'R36'))\n",
    "plt.legend()\n",
    "plt.tight_layout()\n",
    "plt.show()"
   ]
  },
  {
   "cell_type": "code",
   "execution_count": 11,
   "metadata": {},
   "outputs": [
    {
     "data": {
      "image/png": "[encoded data removed]",
      "text/plain": [
       "<Figure size 432x288 with 1 Axes>"
      ]
     },
     "metadata": {
      "needs_background": "light"
     },
     "output_type": "display_data"
    }
   ],
   "source": [
    "# Underpriced Exclude NASDAQ)\n",
    "fig, ax = plt.subplots()\n",
    "index = np.arange(n_groups)\n",
    "rects1 = plt.bar(index, df_under_amex, bar_width,\n",
    "    alpha=opacity,\n",
    "    color='b',\n",
    "    label='AMEX')\n",
    "rects2 = plt.bar(index + bar_width, df_under_nyse, bar_width,\n",
    "    alpha=opacity,\n",
    "    color='g',\n",
    "    label='NYSE')\n",
    "plt.xlabel('Exchange')\n",
    "plt.ylabel('Return')\n",
    "plt.title('Underpriced Average Returns by Exchange')\n",
    "plt.xticks(index + bar_width, ('D1', 'R12', 'R24', 'R36'))\n",
    "plt.legend()\n",
    "plt.tight_layout()\n",
    "plt.show()"
   ]
  }
 ],
 "metadata": {
  "kernelspec": {
   "display_name": "Python 3",
   "language": "python",
   "name": "python3"
  },
  "language_info": {
   "codemirror_mode": {
    "name": "ipython",
    "version": 3
   },
   "file_extension": ".py",
   "mimetype": "text/x-python",
   "name": "python",
   "nbconvert_exporter": "python",
   "pygments_lexer": "ipython3",
   "version": "3.7.3"
  }
 },
 "nbformat": 4,
 "nbformat_minor": 2
}
